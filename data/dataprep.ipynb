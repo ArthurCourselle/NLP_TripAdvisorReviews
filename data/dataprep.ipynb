{
 "cells": [
  {
   "cell_type": "markdown",
   "metadata": {},
   "source": [
    "# Data Preprocessing for TripAdvisor Review Dataset\n",
    "\n",
    "The dataset [TripAdvisor Review Rating](https://huggingface.co/datasets/jniimi/tripadvisor-review-rating) contains reviews from TripAdvisor, including various attributes related to the review and the hotel. The goal of this notebook is to preprocess the data and prepare it for analysis and model training.\n",
    "\n",
    "The dataset contains the following columns:\n",
    "- `hotel_id`: The ID of the hotel.\n",
    "- `user_id`: The ID of the user who wrote the review.\n",
    "- `title`: The title of the review.\n",
    "- `text`: The text of the review.\n",
    "- `overall`: The overall rating given by the user.\n",
    "- `cleanliness`: The cleanliness rating given by the user.\n",
    "- `value`: The value rating given by the user.\n",
    "- `location`: The location rating given by the user.\n",
    "- `rooms`: The rooms rating given by the user.\n",
    "- `sleep_quality`: The sleep quality rating given by the user.\n",
    "- `stay_year`: The year of the stay.\n",
    "- `post_date`: The date the review was posted.\n",
    "- `freq`: The frequency of the review.\n",
    "- `review`: The full review text.\n",
    "- `char`: The character count of the review.\n",
    "- `lang`: The language of the review."
   ]
  },
  {
   "cell_type": "code",
   "execution_count": 23,
   "metadata": {},
   "outputs": [
    {
     "name": "stdout",
     "output_type": "stream",
     "text": [
      "Requirement already satisfied: datasets in /Users/lucasduport/miniconda3/envs/scia/lib/python3.13/site-packages (3.3.2)\n",
      "Requirement already satisfied: filelock in /Users/lucasduport/miniconda3/envs/scia/lib/python3.13/site-packages (from datasets) (3.17.0)\n",
      "Requirement already satisfied: numpy>=1.17 in /Users/lucasduport/miniconda3/envs/scia/lib/python3.13/site-packages (from datasets) (2.2.2)\n",
      "Requirement already satisfied: pyarrow>=15.0.0 in /Users/lucasduport/miniconda3/envs/scia/lib/python3.13/site-packages (from datasets) (19.0.1)\n",
      "Requirement already satisfied: dill<0.3.9,>=0.3.0 in /Users/lucasduport/miniconda3/envs/scia/lib/python3.13/site-packages (from datasets) (0.3.8)\n",
      "Requirement already satisfied: pandas in /Users/lucasduport/miniconda3/envs/scia/lib/python3.13/site-packages (from datasets) (2.2.3)\n",
      "Requirement already satisfied: requests>=2.32.2 in /Users/lucasduport/miniconda3/envs/scia/lib/python3.13/site-packages (from datasets) (2.32.3)\n",
      "Requirement already satisfied: tqdm>=4.66.3 in /Users/lucasduport/miniconda3/envs/scia/lib/python3.13/site-packages (from datasets) (4.67.1)\n",
      "Requirement already satisfied: xxhash in /Users/lucasduport/miniconda3/envs/scia/lib/python3.13/site-packages (from datasets) (3.5.0)\n",
      "Requirement already satisfied: multiprocess<0.70.17 in /Users/lucasduport/miniconda3/envs/scia/lib/python3.13/site-packages (from datasets) (0.70.16)\n",
      "Requirement already satisfied: fsspec<=2024.12.0,>=2023.1.0 in /Users/lucasduport/miniconda3/envs/scia/lib/python3.13/site-packages (from fsspec[http]<=2024.12.0,>=2023.1.0->datasets) (2024.12.0)\n",
      "Requirement already satisfied: aiohttp in /Users/lucasduport/miniconda3/envs/scia/lib/python3.13/site-packages (from datasets) (3.11.13)\n",
      "Requirement already satisfied: huggingface-hub>=0.24.0 in /Users/lucasduport/miniconda3/envs/scia/lib/python3.13/site-packages (from datasets) (0.29.3)\n",
      "Requirement already satisfied: packaging in /Users/lucasduport/miniconda3/envs/scia/lib/python3.13/site-packages (from datasets) (24.2)\n",
      "Requirement already satisfied: pyyaml>=5.1 in /Users/lucasduport/miniconda3/envs/scia/lib/python3.13/site-packages (from datasets) (6.0.2)\n",
      "Requirement already satisfied: aiohappyeyeballs>=2.3.0 in /Users/lucasduport/miniconda3/envs/scia/lib/python3.13/site-packages (from aiohttp->datasets) (2.6.1)\n",
      "Requirement already satisfied: aiosignal>=1.1.2 in /Users/lucasduport/miniconda3/envs/scia/lib/python3.13/site-packages (from aiohttp->datasets) (1.3.2)\n",
      "Requirement already satisfied: attrs>=17.3.0 in /Users/lucasduport/miniconda3/envs/scia/lib/python3.13/site-packages (from aiohttp->datasets) (25.1.0)\n",
      "Requirement already satisfied: frozenlist>=1.1.1 in /Users/lucasduport/miniconda3/envs/scia/lib/python3.13/site-packages (from aiohttp->datasets) (1.5.0)\n",
      "Requirement already satisfied: multidict<7.0,>=4.5 in /Users/lucasduport/miniconda3/envs/scia/lib/python3.13/site-packages (from aiohttp->datasets) (6.1.0)\n",
      "Requirement already satisfied: propcache>=0.2.0 in /Users/lucasduport/miniconda3/envs/scia/lib/python3.13/site-packages (from aiohttp->datasets) (0.3.0)\n",
      "Requirement already satisfied: yarl<2.0,>=1.17.0 in /Users/lucasduport/miniconda3/envs/scia/lib/python3.13/site-packages (from aiohttp->datasets) (1.18.3)\n",
      "Requirement already satisfied: typing-extensions>=3.7.4.3 in /Users/lucasduport/miniconda3/envs/scia/lib/python3.13/site-packages (from huggingface-hub>=0.24.0->datasets) (4.12.2)\n",
      "Requirement already satisfied: charset-normalizer<4,>=2 in /Users/lucasduport/miniconda3/envs/scia/lib/python3.13/site-packages (from requests>=2.32.2->datasets) (3.4.1)\n",
      "Requirement already satisfied: idna<4,>=2.5 in /Users/lucasduport/miniconda3/envs/scia/lib/python3.13/site-packages (from requests>=2.32.2->datasets) (3.10)\n",
      "Requirement already satisfied: urllib3<3,>=1.21.1 in /Users/lucasduport/miniconda3/envs/scia/lib/python3.13/site-packages (from requests>=2.32.2->datasets) (2.3.0)\n",
      "Requirement already satisfied: certifi>=2017.4.17 in /Users/lucasduport/miniconda3/envs/scia/lib/python3.13/site-packages (from requests>=2.32.2->datasets) (2025.1.31)\n",
      "Requirement already satisfied: python-dateutil>=2.8.2 in /Users/lucasduport/miniconda3/envs/scia/lib/python3.13/site-packages (from pandas->datasets) (2.9.0.post0)\n",
      "Requirement already satisfied: pytz>=2020.1 in /Users/lucasduport/miniconda3/envs/scia/lib/python3.13/site-packages (from pandas->datasets) (2025.1)\n",
      "Requirement already satisfied: tzdata>=2022.7 in /Users/lucasduport/miniconda3/envs/scia/lib/python3.13/site-packages (from pandas->datasets) (2025.1)\n",
      "Requirement already satisfied: six>=1.5 in /Users/lucasduport/miniconda3/envs/scia/lib/python3.13/site-packages (from python-dateutil>=2.8.2->pandas->datasets) (1.17.0)\n",
      "Note: you may need to restart the kernel to use updated packages.\n",
      "Requirement already satisfied: pandas in /Users/lucasduport/miniconda3/envs/scia/lib/python3.13/site-packages (2.2.3)\n",
      "Requirement already satisfied: numpy>=1.26.0 in /Users/lucasduport/miniconda3/envs/scia/lib/python3.13/site-packages (from pandas) (2.2.2)\n",
      "Requirement already satisfied: python-dateutil>=2.8.2 in /Users/lucasduport/miniconda3/envs/scia/lib/python3.13/site-packages (from pandas) (2.9.0.post0)\n",
      "Requirement already satisfied: pytz>=2020.1 in /Users/lucasduport/miniconda3/envs/scia/lib/python3.13/site-packages (from pandas) (2025.1)\n",
      "Requirement already satisfied: tzdata>=2022.7 in /Users/lucasduport/miniconda3/envs/scia/lib/python3.13/site-packages (from pandas) (2025.1)\n",
      "Requirement already satisfied: six>=1.5 in /Users/lucasduport/miniconda3/envs/scia/lib/python3.13/site-packages (from python-dateutil>=2.8.2->pandas) (1.17.0)\n",
      "Note: you may need to restart the kernel to use updated packages.\n",
      "Requirement already satisfied: scikit-learn in /Users/lucasduport/miniconda3/envs/scia/lib/python3.13/site-packages (1.6.1)\n",
      "Requirement already satisfied: numpy>=1.19.5 in /Users/lucasduport/miniconda3/envs/scia/lib/python3.13/site-packages (from scikit-learn) (2.2.2)\n",
      "Requirement already satisfied: scipy>=1.6.0 in /Users/lucasduport/miniconda3/envs/scia/lib/python3.13/site-packages (from scikit-learn) (1.15.1)\n",
      "Requirement already satisfied: joblib>=1.2.0 in /Users/lucasduport/miniconda3/envs/scia/lib/python3.13/site-packages (from scikit-learn) (1.4.2)\n",
      "Requirement already satisfied: threadpoolctl>=3.1.0 in /Users/lucasduport/miniconda3/envs/scia/lib/python3.13/site-packages (from scikit-learn) (3.5.0)\n",
      "Note: you may need to restart the kernel to use updated packages.\n"
     ]
    }
   ],
   "source": [
    "# List of packages to install\n",
    "%pip install datasets\n",
    "%pip install pandas\n",
    "%pip install scikit-learn"
   ]
  },
  {
   "cell_type": "code",
   "execution_count": 5,
   "metadata": {},
   "outputs": [],
   "source": [
    "from datasets import load_dataset\n",
    "import pandas as pd\n",
    "\n",
    "from sklearn.model_selection import train_test_split"
   ]
  },
  {
   "cell_type": "code",
   "execution_count": 6,
   "metadata": {},
   "outputs": [
    {
     "data": {
      "application/vnd.microsoft.datawrangler.viewer.v0+json": {
       "columns": [
        {
         "name": "index",
         "rawType": "int64",
         "type": "integer"
        },
        {
         "name": "hotel_id",
         "rawType": "int64",
         "type": "integer"
        },
        {
         "name": "user_id",
         "rawType": "object",
         "type": "string"
        },
        {
         "name": "title",
         "rawType": "object",
         "type": "string"
        },
        {
         "name": "text",
         "rawType": "object",
         "type": "string"
        },
        {
         "name": "overall",
         "rawType": "float64",
         "type": "float"
        },
        {
         "name": "cleanliness",
         "rawType": "float64",
         "type": "float"
        },
        {
         "name": "value",
         "rawType": "float64",
         "type": "float"
        },
        {
         "name": "location",
         "rawType": "float64",
         "type": "float"
        },
        {
         "name": "rooms",
         "rawType": "float64",
         "type": "float"
        },
        {
         "name": "sleep_quality",
         "rawType": "float64",
         "type": "float"
        },
        {
         "name": "stay_year",
         "rawType": "int64",
         "type": "integer"
        },
        {
         "name": "post_date",
         "rawType": "datetime64[ns]",
         "type": "datetime"
        },
        {
         "name": "freq",
         "rawType": "int64",
         "type": "integer"
        },
        {
         "name": "review",
         "rawType": "object",
         "type": "string"
        },
        {
         "name": "char",
         "rawType": "int64",
         "type": "integer"
        },
        {
         "name": "lang",
         "rawType": "object",
         "type": "string"
        }
       ],
       "conversionMethod": "pd.DataFrame",
       "ref": "d5a3f83c-974c-4276-a2af-c04c60084b1c",
       "rows": [
        [
         "0",
         "127781101",
         "2262DCBFC351F42A9DD30AC8BAD24686",
         "Really excellent Hilton",
         "Stayed here on business trips and the hotel is excellent for business trips. Staff is excellent and really helpful. VERY clean hotel. Best choice in San Diego; especially a Hilton.",
         "5.0",
         "4.0",
         "5.0",
         "4.0",
         "5.0",
         "4.0",
         "2012",
         "2012-04-13 00:00:00",
         "1",
         "Really excellent Hilton\nStayed here on business trips and the hotel is excellent for business trips. Staff is excellent and really helpful. VERY clean hotel. Best choice in San Diego; especially a Hilton.",
         "204",
         "__label__en"
        ],
        [
         "1",
         "137380592",
         "8477E11DABF4D6743885E401BB4C8CCF",
         "Exceptional service and comfort",
         "Spent two nights here for a wedding in Brooklyn. The staff members were all exceptionally friendly and professional, from the doormen and bellhops to the front-desk and concierge. I was especially grateful that Kevin, a bartender in the Ritz's off-lobby bar, was able to tie my bowtie -- I would have looked pretty foolish otherwise. He made it look perfect. Our room was spacious and comfortable, with a large bathroom and king-size bed that provided some of the best sleep I can remember in a hotel. My only disappointment was that the fitness center did not offer a sauna or steam room.",
         "5.0",
         "5.0",
         "4.0",
         "5.0",
         "4.0",
         "5.0",
         "2012",
         "2012-08-16 00:00:00",
         "1",
         "Exceptional service and comfort\nSpent two nights here for a wedding in Brooklyn. The staff members were all exceptionally friendly and professional, from the doormen and bellhops to the front-desk and concierge. I was especially grateful that Kevin, a bartender in the Ritz's off-lobby bar, was able to tie my bowtie -- I would have looked pretty foolish otherwise. He made it look perfect. Our room was spacious and comfortable, with a large bathroom and king-size bed that provided some of the best sleep I can remember in a hotel. My only disappointment was that the fitness center did not offer a sauna or steam room.",
         "621",
         "__label__en"
        ],
        [
         "2",
         "129673371",
         "483A193B7113ADFFD5CE30849564F69C",
         "Nice room and five star service",
         "Great place for a 3-night stay. Our king room overlooked the pool and was very quiet. But we sure did not need the bed's heavy comforter in the Texas heat. Fortunately, there was a light blanket in the closet. \nService could not have been better. Staff members were amazingly helpful, friendly, and knowledgable about the area. I made an online reservation the day before I wanted to arrive, and I requested a room without scenting cleaning products and away from the elevator. Staff made sure BOTH requests were fulfilled! Later when the in-room telephone misbehaved, a hotel employee was promptly there to fix it. A front desk clerk knew just where to find a nearby self-serve carwash. When the TV was blaring in the breakfast room, we were able to get the sound turned down. During our visit, we bought a new camera and accidentally trashed the camera box with the strap inside. Our garbage had just been taken out, so we asked if we could check the trash. A staff member volunteered to check the garbage, and he found the box, retrieved the strap, and had it delivered to our room in very little time!\nBonuses included the freshly baked cookies at the front desk and DVDs to check out for free (the rooms have DVD players).",
         "5.0",
         "5.0",
         "5.0",
         "3.0",
         "5.0",
         "4.0",
         "2012",
         "2012-05-09 00:00:00",
         "1",
         "Nice room and five star service\nGreat place for a 3-night stay. Our king room overlooked the pool and was very quiet. But we sure did not need the bed's heavy comforter in the Texas heat. Fortunately, there was a light blanket in the closet. \nService could not have been better. Staff members were amazingly helpful, friendly, and knowledgable about the area. I made an online reservation the day before I wanted to arrive, and I requested a room without scenting cleaning products and away from the elevator. Staff made sure BOTH requests were fulfilled! Later when the in-room telephone misbehaved, a hotel employee was promptly there to fix it. A front desk clerk knew just where to find a nearby self-serve carwash. When the TV was blaring in the breakfast room, we were able to get the sound turned down. During our visit, we bought a new camera and accidentally trashed the camera box with the strap inside. Our garbage had just been taken out, so we asked if we could check the trash. A staff member volunteered to check the garbage, and he found the box, retrieved the strap, and had it delivered to our room in very little time!\nBonuses included the freshly baked cookies at the front desk and DVDs to check out for free (the rooms have DVD players).",
         "1259",
         "__label__en"
        ],
        [
         "3",
         "129006626",
         "E5A63DD7239A7057746D4644A5C986EB",
         "BRILLIANT hotel, my #1 Chicago pick for business and pleasure",
         "This is my favorite hotel in Chicago, and I've stayed at all the top luxury properties (Four Seasons, Hyatts etc). I've stayed at this hotel 20+ times, it's a hidden gem. Right on the lakefront, there's a beach across the street from the hotel, and if you get a lake view room (be sure to ask), you'll spend some quality zen time gazing at the water. Regardless of which room you get, you can leave your window shades open because you have beautiful views in every direction plus no one overlooking you. \nRooms are fantastic - I love the clever, well-designed furniture and fittings, simple, minimal, and very well-designed. Honey-colored lighting plus a multiplicity of window treatments (blackout shades plus twig shades plus sheer sun shades) means that you can adjust the lighting to make yourself feel cheerful and relaxed. The bathroom is gorgeous, plus clever 'window' out to main room means excellent ventilation and light. \nThe huge lobby is my favorite hangout in Chicago. The ground-floor location means you're connected to the street-level location and yet the plush chairs, sofas etc mean that you totally zen out and relax. I always try to conduct business meetings in the lobby - plenty of space, beautiful room and excellent food/drinks menu and service means that my guest invariably remarks 'wow, this is a great place, I've never been here before.' I've won almost every negotiation conducted in the lobby, ply your opponents with drinks plus finger food plus a terry cloth robe and they will give you all that you want :)\nAlso love the staff - they totally deal with whatever questions I have or help that I need. This is an EXCELLENT hotel for BUSINESS travelers, the staff is exceptionally helpful running meetings, handling phone calls etc. And special shout-out to the car valet staff and doorman staff - Chicago can be incredibly cold, but the staff always has your car (or taxi) warmed up and waiting for you, I've never met better service. Ever. The front desk also have my airplane boarding passes printed out when I come down to check out, plus a pre-visit call means they will help you maximize spg points etc.\nStay here every time you visit Chicago.",
         "5.0",
         "5.0",
         "5.0",
         "5.0",
         "5.0",
         "5.0",
         "2012",
         "2012-04-28 00:00:00",
         "1",
         "BRILLIANT hotel, my #1 Chicago pick for business and pleasure\nThis is my favorite hotel in Chicago, and I've stayed at all the top luxury properties (Four Seasons, Hyatts etc). I've stayed at this hotel 20+ times, it's a hidden gem. Right on the lakefront, there's a beach across the street from the hotel, and if you get a lake view room (be sure to ask), you'll spend some quality zen time gazing at the water. Regardless of which room you get, you can leave your window shades open because you have beautiful views in every direction plus no one overlooking you. \nRooms are fantastic - I love the clever, well-designed furniture and fittings, simple, minimal, and very well-designed. Honey-colored lighting plus a multiplicity of window treatments (blackout shades plus twig shades plus sheer sun shades) means that you can adjust the lighting to make yourself feel cheerful and relaxed. The bathroom is gorgeous, plus clever 'window' out to main room means excellent ventilation and light. \nThe huge lobby is my favorite hangout in Chicago. The ground-floor location means you're connected to the street-level location and yet the plush chairs, sofas etc mean that you totally zen out and relax. I always try to conduct business meetings in the lobby - plenty of space, beautiful room and excellent food/drinks menu and service means that my guest invariably remarks 'wow, this is a great place, I've never been here before.' I've won almost every negotiation conducted in the lobby, ply your opponents with drinks plus finger food plus a terry cloth robe and they will give you all that you want :)\nAlso love the staff - they totally deal with whatever questions I have or help that I need. This is an EXCELLENT hotel for BUSINESS travelers, the staff is exceptionally helpful running meetings, handling phone calls etc. And special shout-out to the car valet staff and doorman staff - Chicago can be incredibly cold, but the staff always has your car (or taxi) warmed up and waiting for you, I've never met better service. Ever. The front desk also have my airplane boarding passes printed out when I come down to check out, plus a pre-visit call means they will help you maximize spg points etc.\nStay here every time you visit Chicago.",
         "2242",
         "__label__en"
        ],
        [
         "4",
         "139168159",
         "CBFE281C9386225267BC52518836A6C2",
         "Convenient and comfortable",
         "BEST. BREAKFAST. EVER. Couldn't have been happier with the food, staff, and room. Absolutely wonderful. The location was just off of 16th, but situated in such a way that it wasn't always busy. Parking was easy to get in and out of, and the staff was very friendly and helpful with questions of how to get to where in downtown Denver. With the 16th street mall being so close, it couldn't have been more convenient for us to get to where we wanted to be. Absolutely fantastic weekend.",
         "5.0",
         "5.0",
         "4.0",
         "5.0",
         "4.0",
         "5.0",
         "2012",
         "2012-09-02 00:00:00",
         "1",
         "Convenient and comfortable\nBEST. BREAKFAST. EVER. Couldn't have been happier with the food, staff, and room. Absolutely wonderful. The location was just off of 16th, but situated in such a way that it wasn't always busy. Parking was easy to get in and out of, and the staff was very friendly and helpful with questions of how to get to where in downtown Denver. With the 16th street mall being so close, it couldn't have been more convenient for us to get to where we wanted to be. Absolutely fantastic weekend.",
         "511",
         "__label__en"
        ]
       ],
       "shape": {
        "columns": 16,
        "rows": 5
       }
      },
      "text/html": [
       "<div>\n",
       "<style scoped>\n",
       "    .dataframe tbody tr th:only-of-type {\n",
       "        vertical-align: middle;\n",
       "    }\n",
       "\n",
       "    .dataframe tbody tr th {\n",
       "        vertical-align: top;\n",
       "    }\n",
       "\n",
       "    .dataframe thead th {\n",
       "        text-align: right;\n",
       "    }\n",
       "</style>\n",
       "<table border=\"1\" class=\"dataframe\">\n",
       "  <thead>\n",
       "    <tr style=\"text-align: right;\">\n",
       "      <th></th>\n",
       "      <th>hotel_id</th>\n",
       "      <th>user_id</th>\n",
       "      <th>title</th>\n",
       "      <th>text</th>\n",
       "      <th>overall</th>\n",
       "      <th>cleanliness</th>\n",
       "      <th>value</th>\n",
       "      <th>location</th>\n",
       "      <th>rooms</th>\n",
       "      <th>sleep_quality</th>\n",
       "      <th>stay_year</th>\n",
       "      <th>post_date</th>\n",
       "      <th>freq</th>\n",
       "      <th>review</th>\n",
       "      <th>char</th>\n",
       "      <th>lang</th>\n",
       "    </tr>\n",
       "  </thead>\n",
       "  <tbody>\n",
       "    <tr>\n",
       "      <th>0</th>\n",
       "      <td>127781101</td>\n",
       "      <td>2262DCBFC351F42A9DD30AC8BAD24686</td>\n",
       "      <td>Really excellent Hilton</td>\n",
       "      <td>Stayed here on business trips and the hotel is...</td>\n",
       "      <td>5.0</td>\n",
       "      <td>4.0</td>\n",
       "      <td>5.0</td>\n",
       "      <td>4.0</td>\n",
       "      <td>5.0</td>\n",
       "      <td>4.0</td>\n",
       "      <td>2012</td>\n",
       "      <td>2012-04-13</td>\n",
       "      <td>1</td>\n",
       "      <td>Really excellent Hilton\\nStayed here on busine...</td>\n",
       "      <td>204</td>\n",
       "      <td>__label__en</td>\n",
       "    </tr>\n",
       "    <tr>\n",
       "      <th>1</th>\n",
       "      <td>137380592</td>\n",
       "      <td>8477E11DABF4D6743885E401BB4C8CCF</td>\n",
       "      <td>Exceptional service and comfort</td>\n",
       "      <td>Spent two nights here for a wedding in Brookly...</td>\n",
       "      <td>5.0</td>\n",
       "      <td>5.0</td>\n",
       "      <td>4.0</td>\n",
       "      <td>5.0</td>\n",
       "      <td>4.0</td>\n",
       "      <td>5.0</td>\n",
       "      <td>2012</td>\n",
       "      <td>2012-08-16</td>\n",
       "      <td>1</td>\n",
       "      <td>Exceptional service and comfort\\nSpent two nig...</td>\n",
       "      <td>621</td>\n",
       "      <td>__label__en</td>\n",
       "    </tr>\n",
       "    <tr>\n",
       "      <th>2</th>\n",
       "      <td>129673371</td>\n",
       "      <td>483A193B7113ADFFD5CE30849564F69C</td>\n",
       "      <td>Nice room and five star service</td>\n",
       "      <td>Great place for a 3-night stay. Our king room ...</td>\n",
       "      <td>5.0</td>\n",
       "      <td>5.0</td>\n",
       "      <td>5.0</td>\n",
       "      <td>3.0</td>\n",
       "      <td>5.0</td>\n",
       "      <td>4.0</td>\n",
       "      <td>2012</td>\n",
       "      <td>2012-05-09</td>\n",
       "      <td>1</td>\n",
       "      <td>Nice room and five star service\\nGreat place f...</td>\n",
       "      <td>1259</td>\n",
       "      <td>__label__en</td>\n",
       "    </tr>\n",
       "    <tr>\n",
       "      <th>3</th>\n",
       "      <td>129006626</td>\n",
       "      <td>E5A63DD7239A7057746D4644A5C986EB</td>\n",
       "      <td>BRILLIANT hotel, my #1 Chicago pick for busine...</td>\n",
       "      <td>This is my favorite hotel in Chicago, and I've...</td>\n",
       "      <td>5.0</td>\n",
       "      <td>5.0</td>\n",
       "      <td>5.0</td>\n",
       "      <td>5.0</td>\n",
       "      <td>5.0</td>\n",
       "      <td>5.0</td>\n",
       "      <td>2012</td>\n",
       "      <td>2012-04-28</td>\n",
       "      <td>1</td>\n",
       "      <td>BRILLIANT hotel, my #1 Chicago pick for busine...</td>\n",
       "      <td>2242</td>\n",
       "      <td>__label__en</td>\n",
       "    </tr>\n",
       "    <tr>\n",
       "      <th>4</th>\n",
       "      <td>139168159</td>\n",
       "      <td>CBFE281C9386225267BC52518836A6C2</td>\n",
       "      <td>Convenient and comfortable</td>\n",
       "      <td>BEST. BREAKFAST. EVER. Couldn't have been happ...</td>\n",
       "      <td>5.0</td>\n",
       "      <td>5.0</td>\n",
       "      <td>4.0</td>\n",
       "      <td>5.0</td>\n",
       "      <td>4.0</td>\n",
       "      <td>5.0</td>\n",
       "      <td>2012</td>\n",
       "      <td>2012-09-02</td>\n",
       "      <td>1</td>\n",
       "      <td>Convenient and comfortable\\nBEST. BREAKFAST. E...</td>\n",
       "      <td>511</td>\n",
       "      <td>__label__en</td>\n",
       "    </tr>\n",
       "  </tbody>\n",
       "</table>\n",
       "</div>"
      ],
      "text/plain": [
       "    hotel_id                           user_id  \\\n",
       "0  127781101  2262DCBFC351F42A9DD30AC8BAD24686   \n",
       "1  137380592  8477E11DABF4D6743885E401BB4C8CCF   \n",
       "2  129673371  483A193B7113ADFFD5CE30849564F69C   \n",
       "3  129006626  E5A63DD7239A7057746D4644A5C986EB   \n",
       "4  139168159  CBFE281C9386225267BC52518836A6C2   \n",
       "\n",
       "                                               title  \\\n",
       "0                            Really excellent Hilton   \n",
       "1                    Exceptional service and comfort   \n",
       "2                    Nice room and five star service   \n",
       "3  BRILLIANT hotel, my #1 Chicago pick for busine...   \n",
       "4                         Convenient and comfortable   \n",
       "\n",
       "                                                text  overall  cleanliness  \\\n",
       "0  Stayed here on business trips and the hotel is...      5.0          4.0   \n",
       "1  Spent two nights here for a wedding in Brookly...      5.0          5.0   \n",
       "2  Great place for a 3-night stay. Our king room ...      5.0          5.0   \n",
       "3  This is my favorite hotel in Chicago, and I've...      5.0          5.0   \n",
       "4  BEST. BREAKFAST. EVER. Couldn't have been happ...      5.0          5.0   \n",
       "\n",
       "   value  location  rooms  sleep_quality  stay_year  post_date  freq  \\\n",
       "0    5.0       4.0    5.0            4.0       2012 2012-04-13     1   \n",
       "1    4.0       5.0    4.0            5.0       2012 2012-08-16     1   \n",
       "2    5.0       3.0    5.0            4.0       2012 2012-05-09     1   \n",
       "3    5.0       5.0    5.0            5.0       2012 2012-04-28     1   \n",
       "4    4.0       5.0    4.0            5.0       2012 2012-09-02     1   \n",
       "\n",
       "                                              review  char         lang  \n",
       "0  Really excellent Hilton\\nStayed here on busine...   204  __label__en  \n",
       "1  Exceptional service and comfort\\nSpent two nig...   621  __label__en  \n",
       "2  Nice room and five star service\\nGreat place f...  1259  __label__en  \n",
       "3  BRILLIANT hotel, my #1 Chicago pick for busine...  2242  __label__en  \n",
       "4  Convenient and comfortable\\nBEST. BREAKFAST. E...   511  __label__en  "
      ]
     },
     "metadata": {},
     "output_type": "display_data"
    },
    {
     "name": "stdout",
     "output_type": "stream",
     "text": [
      "(201295, 16)\n",
      "Index(['hotel_id', 'user_id', 'title', 'text', 'overall', 'cleanliness',\n",
      "       'value', 'location', 'rooms', 'sleep_quality', 'stay_year', 'post_date',\n",
      "       'freq', 'review', 'char', 'lang'],\n",
      "      dtype='object')\n"
     ]
    }
   ],
   "source": [
    "ds = load_dataset(\"jniimi/tripadvisor-review-rating\")\n",
    "raw_data = pd.DataFrame(ds['train'])\n",
    "\n",
    "display(raw_data.head())\n",
    "\n",
    "print(raw_data.shape)\n",
    "print(raw_data.columns)"
   ]
  },
  {
   "cell_type": "markdown",
   "metadata": {},
   "source": [
    "# Preprocessing"
   ]
  },
  {
   "cell_type": "code",
   "execution_count": 7,
   "metadata": {},
   "outputs": [
    {
     "name": "stdout",
     "output_type": "stream",
     "text": [
      "(128828, 12)\n",
      "(32208, 12)\n",
      "(40259, 12)\n"
     ]
    }
   ],
   "source": [
    "# Remove the System Prompt\n",
    "df = raw_data.drop(columns=['stay_year', 'post_date', 'freq', 'lang'])\n",
    "\n",
    "# Drop the rows with missing User Prompt\n",
    "df = df.dropna()\n",
    "\n",
    "# Drop the duplicates\n",
    "df = df.drop_duplicates()\n",
    "\n",
    "# Shuffle the data\n",
    "df = df.sample(frac=1).reset_index(drop=True)\n",
    "\n",
    "# Split the data into train and test\n",
    "train_df, test_df = train_test_split(df, test_size=0.2)\n",
    "\n",
    "train_df, val_df = train_test_split(train_df, test_size=0.2)\n",
    "\n",
    "print(train_df.shape)\n",
    "print(val_df.shape)\n",
    "print(test_df.shape)"
   ]
  },
  {
   "cell_type": "code",
   "execution_count": null,
   "metadata": {},
   "outputs": [],
   "source": []
  }
 ],
 "metadata": {
  "kernelspec": {
   "display_name": "base",
   "language": "python",
   "name": "python3"
  },
  "language_info": {
   "codemirror_mode": {
    "name": "ipython",
    "version": 3
   },
   "file_extension": ".py",
   "mimetype": "text/x-python",
   "name": "python",
   "nbconvert_exporter": "python",
   "pygments_lexer": "ipython3",
   "version": "3.12.2"
  }
 },
 "nbformat": 4,
 "nbformat_minor": 2
}
