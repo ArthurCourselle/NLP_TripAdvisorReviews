{
 "cells": [
  {
   "cell_type": "markdown",
   "metadata": {},
   "source": [
    "## Logistic Regression: PyTorch Implementation"
   ]
  },
  {
   "cell_type": "code",
   "execution_count": 6,
   "metadata": {},
   "outputs": [
    {
     "data": {
      "text/plain": [
       "True"
      ]
     },
     "execution_count": 6,
     "metadata": {},
     "output_type": "execute_result"
    }
   ],
   "source": [
    "import torch\n",
    "from torch.utils.data import DataLoader, Dataset\n",
    "import torch.nn as nn\n",
    "import torch.nn.functional as F\n",
    "import torch.optim as optim\n",
    "\n",
    "device = torch.device(\"cuda\" if torch.cuda.is_available() else \"cpu\")\n",
    "torch.cuda.is_available()"
   ]
  },
  {
   "cell_type": "markdown",
   "metadata": {},
   "source": [
    "Model Definition"
   ]
  },
  {
   "cell_type": "code",
   "execution_count": 7,
   "metadata": {},
   "outputs": [],
   "source": [
    "class LogisticRegression(nn.Module):\n",
    "    def __init__(self, in_features: int, out_features: int) -> None:\n",
    "        super().__init__()\n",
    "        self.linear = nn.Linear(in_features, out_features, bias=True)\n",
    "        \n",
    "    def forward(self, x):\n",
    "        return F.sigmoid(\n",
    "            self.linear(x)\n",
    "        )"
   ]
  },
  {
   "cell_type": "markdown",
   "metadata": {},
   "source": [
    "Data Loading and preparation"
   ]
  },
  {
   "cell_type": "code",
   "execution_count": 8,
   "metadata": {},
   "outputs": [
    {
     "name": "stderr",
     "output_type": "stream",
     "text": [
      "/home/acours/miniconda3/envs/ing2/lib/python3.13/site-packages/sklearn/feature_extraction/text.py:517: UserWarning: The parameter 'token_pattern' will not be used since 'tokenizer' is not None'\n",
      "  warnings.warn(\n"
     ]
    }
   ],
   "source": [
    "from datasets import load_dataset\n",
    "from nltk.tokenize import word_tokenize\n",
    "import pandas as pd\n",
    "from sklearn.model_selection import train_test_split\n",
    "from sklearn.feature_extraction.text import TfidfVectorizer\n",
    "\n",
    "ds = load_dataset(\"jniimi/tripadvisor-review-rating\")\n",
    "raw_data = pd.DataFrame(ds['train'])\n",
    "\n",
    "text = 'review'\n",
    "label = 'overall'\n",
    "\n",
    "df = raw_data.drop(columns=['stay_year', 'post_date', 'freq', 'lang'])\n",
    "\n",
    "# Drop the rows with missing data\n",
    "df = df.dropna()\n",
    "\n",
    "# Drop the duplicates\n",
    "df = df.drop_duplicates()\n",
    "\n",
    "# Shuffle the data\n",
    "df = df.sample(frac=1).reset_index(drop=True)\n",
    "\n",
    "# To avoid too big training\n",
    "df = df.sample(frac=0.1)\n",
    "\n",
    "# Split the data into train and test\n",
    "train_df, test_df = train_test_split(df, test_size=0.2, stratify=df[label], random_state=42)\n",
    "\n",
    "train_df, val_df = train_test_split(train_df, test_size=0.2, stratify=train_df[label], random_state=42)\n",
    "\n",
    "vectorizer = TfidfVectorizer(tokenizer=word_tokenize)\n",
    "\n",
    "X_train = vectorizer.fit_transform(train_df[[text]].reset_index(drop=True).review)\n",
    "y_train = train_df[label]\n",
    "\n",
    "X_test = vectorizer.transform(test_df[[text]].reset_index(drop=True).review)\n",
    "y_test = test_df[label]"
   ]
  },
  {
   "cell_type": "code",
   "execution_count": null,
   "metadata": {},
   "outputs": [],
   "source": [
    "# Dataset class for sparse data from TfIdf\n",
    "class SparseTensorDataset(Dataset):\n",
    "    def __init__(self, X, y):\n",
    "        self.X = X\n",
    "        self.y = y\n",
    "\n",
    "    def __len__(self):\n",
    "        return len(self.y)\n",
    "\n",
    "    def __getitem__(self, idx):\n",
    "        x = self.X[idx]\n",
    "        y = self.y[idx]\n",
    "        return x.to_dense().float().to(device), y.to(device)"
   ]
  },
  {
   "cell_type": "code",
   "execution_count": null,
   "metadata": {},
   "outputs": [],
   "source": [
    "batch_size = 64\n",
    "\n",
    "# Convert data to tensors.\n",
    "X_train_tensor = torch.sparse_coo_tensor(X_train.nonzero(), X_train.data, X_train.shape)\n",
    "y_train_tensor = torch.tensor(y_train.values - 1, dtype=torch.long)\n",
    "\n",
    "\n",
    "X_test_tensor = torch.sparse_coo_tensor(X_test.nonzero(), X_test.data, X_test.shape)\n",
    "y_test_tensor = torch.tensor(y_test.values - 1, dtype=torch.long)\n",
    "\n",
    "\n",
    "train_dataset = SparseTensorDataset(X_train_tensor, y_train_tensor)\n",
    "test_dataset = SparseTensorDataset(X_test_tensor, y_test_tensor)\n",
    "\n",
    "# DataLoaders\n",
    "train_loader = DataLoader(train_dataset, batch_size=batch_size, shuffle=True)\n",
    "test_loader = DataLoader(test_dataset, batch_size=batch_size, shuffle=False)"
   ]
  },
  {
   "cell_type": "code",
   "execution_count": 44,
   "metadata": {},
   "outputs": [],
   "source": [
    "# Number of features from TfIdf\n",
    "in_features = X_train.shape[1]\n",
    "\n",
    "# Number of possible labels\n",
    "out_features = len(y_train.unique())\n",
    "\n",
    "model = LogisticRegression(in_features, out_features).to(device)\n",
    "\n",
    "# Move model on device and compile it with TorchDynamo (optimizations could be useful since we have a large Dataset)\n",
    "model = torch.compile(model.to(device))\n",
    "\n",
    "# Define the loss, CrossEntropy since we have multi-labels\n",
    "loss_fn = nn.CrossEntropyLoss()\n",
    "\n",
    "lr = 0.001\n",
    "optimizer = optim.SGD(model.parameters(), lr=lr, momentum=0.9)"
   ]
  },
  {
   "cell_type": "code",
   "execution_count": null,
   "metadata": {},
   "outputs": [],
   "source": [
    "def get_batch_accuracy(output, y, N):\n",
    "    pred = output.argmax(dim=1, keepdim=True)\n",
    "    correct = pred.eq(y.view_as(pred)).sum().item()\n",
    "    return correct / N\n",
    "\n",
    "\n",
    "def train(model, train_loader, batch_size, optimizer, loss_fn):\n",
    "    loss = 0\n",
    "    accuracy = 0\n",
    "\n",
    "    model.train()\n",
    "    for x, y in train_loader:\n",
    "        output = model(x)\n",
    "        optimizer.zero_grad()\n",
    "        loss = loss_fn(output, y)\n",
    "        loss.backward()\n",
    "        optimizer.step()\n",
    "\n",
    "        loss += loss.item()\n",
    "        accuracy += get_batch_accuracy(output, y, batch_size)\n",
    "        \n",
    "    print(f'Train: loss={loss / len(train_loader)}, accuracy={accuracy / len(train_loader)}')"
   ]
  },
  {
   "cell_type": "code",
   "execution_count": 46,
   "metadata": {},
   "outputs": [],
   "source": [
    "def test(model, test_loader, batch_size, loss_fn):\n",
    "    loss = 0\n",
    "    accuracy = 0\n",
    "\n",
    "    model.eval()\n",
    "    with torch.no_grad():\n",
    "        for x, y in test_loader:\n",
    "            output = model(x)\n",
    "            loss += loss_fn(output, y).item()\n",
    "            accuracy += get_batch_accuracy(output, y, batch_size)\n",
    "    print(f'Test: loss={loss / len(test_loader)}, accuracy={accuracy / len(test_loader)}')\n",
    "    "
   ]
  },
  {
   "cell_type": "code",
   "execution_count": null,
   "metadata": {},
   "outputs": [
    {
     "name": "stdout",
     "output_type": "stream",
     "text": [
      "Epoch: 0\n",
      "Train: loss=0.015737656503915787, accuracy=0.4118193069306931\n",
      "Test: loss=1.5925064578888908, accuracy=0.43080357142857145\n",
      "Epoch time : 26.566782236099243\n",
      "Epoch: 1\n",
      "Train: loss=0.01562720723450184, accuracy=0.429842202970297\n",
      "Test: loss=1.5758961912185427, accuracy=0.43080357142857145\n",
      "Epoch time : 24.795665979385376\n",
      "Epoch: 2\n",
      "Train: loss=0.015471803955733776, accuracy=0.429842202970297\n",
      "Test: loss=1.5605392153300937, accuracy=0.43080357142857145\n",
      "Epoch time : 25.54877257347107\n",
      "Epoch: 3\n",
      "Train: loss=0.01521945372223854, accuracy=0.429842202970297\n",
      "Test: loss=1.5465559864801073, accuracy=0.43080357142857145\n",
      "Epoch time : 11.686943292617798\n",
      "Epoch: 4\n",
      "Train: loss=0.01515111792832613, accuracy=0.429842202970297\n",
      "Test: loss=1.5337300489819239, accuracy=0.43080357142857145\n",
      "Epoch time : 8.083003759384155\n",
      "Epoch: 5\n",
      "Train: loss=0.01489906758069992, accuracy=0.429842202970297\n",
      "Test: loss=1.5220676528082953, accuracy=0.43080357142857145\n",
      "Epoch time : 8.102274656295776\n",
      "Epoch: 6\n",
      "Train: loss=0.014984969981014729, accuracy=0.429842202970297\n",
      "Test: loss=1.511522442575485, accuracy=0.43080357142857145\n",
      "Epoch time : 8.109605073928833\n",
      "Epoch: 7\n",
      "Train: loss=0.015014935284852982, accuracy=0.429842202970297\n",
      "Test: loss=1.5019807985850744, accuracy=0.43080357142857145\n",
      "Epoch time : 8.046082019805908\n",
      "Epoch: 8\n",
      "Train: loss=0.01419783290475607, accuracy=0.429842202970297\n",
      "Test: loss=1.493338113739377, accuracy=0.43080357142857145\n",
      "Epoch time : 8.160247325897217\n",
      "Epoch: 9\n",
      "Train: loss=0.0144997239112854, accuracy=0.429842202970297\n",
      "Test: loss=1.485457074074518, accuracy=0.43080357142857145\n",
      "Epoch time : 8.076959371566772\n",
      "Epoch: 10\n",
      "Train: loss=0.014566374011337757, accuracy=0.429842202970297\n",
      "Test: loss=1.478355258230179, accuracy=0.43080357142857145\n",
      "Epoch time : 8.89419150352478\n",
      "Epoch: 11\n",
      "Train: loss=0.014956832863390446, accuracy=0.429842202970297\n",
      "Test: loss=1.4718555552618844, accuracy=0.43080357142857145\n",
      "Epoch time : 9.128594160079956\n",
      "Epoch: 12\n",
      "Train: loss=0.013885936699807644, accuracy=0.429842202970297\n",
      "Test: loss=1.4659554712356082, accuracy=0.43080357142857145\n",
      "Epoch time : 9.283416032791138\n",
      "Epoch: 13\n",
      "Train: loss=0.014760634861886501, accuracy=0.429842202970297\n",
      "Test: loss=1.4605470914689322, accuracy=0.43080357142857145\n",
      "Epoch time : 8.873397827148438\n",
      "Epoch: 14\n",
      "Train: loss=0.014599724672734737, accuracy=0.429842202970297\n",
      "Test: loss=1.4556108732072135, accuracy=0.43080357142857145\n",
      "Epoch time : 8.469249248504639\n"
     ]
    }
   ],
   "source": [
    "import time\n",
    "epochs = 10\n",
    "\n",
    "for epoch in range(epochs):\n",
    "    print(f'Epoch: {epoch}')\n",
    "    s = time.time()\n",
    "    train(model, train_loader, batch_size, optimizer, loss_fn)\n",
    "    test(model, test_loader, batch_size, loss_fn)\n",
    "    print(f'Epoch time : {time.time() - s}')"
   ]
  },
  {
   "cell_type": "markdown",
   "metadata": {},
   "source": [
    "Not Really relevant"
   ]
  },
  {
   "cell_type": "code",
   "execution_count": 1,
   "metadata": {},
   "outputs": [
    {
     "ename": "NameError",
     "evalue": "name 'vectorizer' is not defined",
     "output_type": "error",
     "traceback": [
      "\u001b[31m---------------------------------------------------------------------------\u001b[39m",
      "\u001b[31mNameError\u001b[39m                                 Traceback (most recent call last)",
      "\u001b[36mCell\u001b[39m\u001b[36m \u001b[39m\u001b[32mIn[1]\u001b[39m\u001b[32m, line 1\u001b[39m\n\u001b[32m----> \u001b[39m\u001b[32m1\u001b[39m vect = \u001b[43mvectorizer\u001b[49m.transform([\u001b[33m'\u001b[39m\u001b[33mDisgusting\u001b[39m\u001b[33m'\u001b[39m])\n\u001b[32m      2\u001b[39m vect_tensor = torch.sparse_coo_tensor(vect.nonzero(), vect.data, vect.shape).float()\n\u001b[32m      3\u001b[39m vect_tensor = vect_tensor.to(device)\n",
      "\u001b[31mNameError\u001b[39m: name 'vectorizer' is not defined"
     ]
    }
   ],
   "source": [
    "vect = vectorizer.transform(['Disgusting'])\n",
    "vect_tensor = torch.sparse_coo_tensor(vect.nonzero(), vect.data, vect.shape).float()\n",
    "vect_tensor = vect_tensor.to(device)\n",
    "\n",
    "model.eval()\n",
    "with torch.no_grad():\n",
    "    output = model(vect_tensor)\n",
    "    print(f'Output: {output}')\n",
    "    print(f'Prediction: {output.argmax(dim=1, keepdim=True) + 1}')"
   ]
  },
  {
   "cell_type": "code",
   "execution_count": null,
   "metadata": {},
   "outputs": [],
   "source": []
  }
 ],
 "metadata": {
  "kernelspec": {
   "display_name": "ing2",
   "language": "python",
   "name": "python3"
  },
  "language_info": {
   "codemirror_mode": {
    "name": "ipython",
    "version": 3
   },
   "file_extension": ".py",
   "mimetype": "text/x-python",
   "name": "python",
   "nbconvert_exporter": "python",
   "pygments_lexer": "ipython3",
   "version": "3.13.2"
  }
 },
 "nbformat": 4,
 "nbformat_minor": 2
}
