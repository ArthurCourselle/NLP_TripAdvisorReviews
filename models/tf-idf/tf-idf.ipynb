{
 "cells": [
  {
   "cell_type": "code",
   "execution_count": 1,
   "metadata": {},
   "outputs": [],
   "source": [
    "import pandas as pd\n",
    "from sklearn.feature_extraction.text import TfidfVectorizer\n",
    "from sklearn.model_selection import train_test_split\n",
    "from sklearn.linear_model import LogisticRegression\n",
    "from sklearn.metrics import accuracy_score, classification_report\n"
   ]
  },
  {
   "cell_type": "code",
   "execution_count": null,
   "metadata": {},
   "outputs": [
    {
     "name": "stdout",
     "output_type": "stream",
     "text": [
      "Number of reviews after cleaning: 201278\n"
     ]
    }
   ],
   "source": [
    "# Load the dataset\n",
    "df = pd.read_parquet(\"hf://datasets/jniimi/tripadvisor-review-rating/data/train-00000-of-00001.parquet\")\n",
    "\n",
    "# Clean the data\n",
    "df_clean = df.dropna(subset=['review'])\n",
    "df_clean = df_clean[df_clean['review'].str.strip() != \"\"]\n",
    "df_clean = df_clean.drop_duplicates(subset=['review']).reset_index(drop=True)\n",
    "print(\"Number of reviews after cleaning:\", df_clean.shape[0])\n",
    "\n",
    "# Overall rating is used as the target\n",
    "target = df_clean['overall']\n",
    "reviews = df_clean['review']"
   ]
  },
  {
   "cell_type": "code",
   "execution_count": 5,
   "metadata": {},
   "outputs": [],
   "source": [
    "# Split dataset into training and test sets (80/20 split)\n",
    "X_train, X_test, y_train, y_test = train_test_split(reviews, target, test_size=0.2, random_state=42)\n",
    "\n",
    "# Initialize TfidfVectorizer and fit on training data, then transform both train and test data\n",
    "vectorizer = TfidfVectorizer()\n",
    "X_train_tfidf = vectorizer.fit_transform(X_train)\n",
    "X_test_tfidf = vectorizer.transform(X_test)"
   ]
  },
  {
   "cell_type": "code",
   "execution_count": null,
   "metadata": {},
   "outputs": [],
   "source": [
    "# Train Logistic Regression\n",
    "clf = LogisticRegression(max_iter=1000)\n",
    "clf.fit(X_train_tfidf, y_train)\n",
    "\n",
    "# Predict on the test set\n",
    "y_pred = clf.predict(X_test_tfidf)"
   ]
  },
  {
   "cell_type": "code",
   "execution_count": 7,
   "metadata": {},
   "outputs": [
    {
     "name": "stdout",
     "output_type": "stream",
     "text": [
      "Accuracy: 0.6791534181240063\n",
      "Classification Report:\n",
      "              precision    recall  f1-score   support\n",
      "\n",
      "         1.0       0.70      0.64      0.67      1667\n",
      "         2.0       0.47      0.34      0.39      2115\n",
      "         3.0       0.58      0.55      0.57      5621\n",
      "         4.0       0.61      0.62      0.62     13443\n",
      "         5.0       0.77      0.81      0.79     17410\n",
      "\n",
      "    accuracy                           0.68     40256\n",
      "   macro avg       0.63      0.59      0.61     40256\n",
      "weighted avg       0.67      0.68      0.68     40256\n",
      "\n"
     ]
    }
   ],
   "source": [
    "# Evaluate the model\n",
    "accuracy = accuracy_score(y_test, y_pred)\n",
    "report = classification_report(y_test, y_pred)\n",
    "print(\"Accuracy:\", accuracy)\n",
    "print(\"Classification Report:\")\n",
    "print(report)"
   ]
  }
 ],
 "metadata": {
  "kernelspec": {
   "display_name": ".venv",
   "language": "python",
   "name": "python3"
  },
  "language_info": {
   "codemirror_mode": {
    "name": "ipython",
    "version": 3
   },
   "file_extension": ".py",
   "mimetype": "text/x-python",
   "name": "python",
   "nbconvert_exporter": "python",
   "pygments_lexer": "ipython3",
   "version": "3.12.3"
  }
 },
 "nbformat": 4,
 "nbformat_minor": 2
}
