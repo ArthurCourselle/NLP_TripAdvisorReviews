{
 "cells": [
  {
   "cell_type": "markdown",
   "metadata": {},
   "source": [
    "# Naive Bayes Classifier\n",
    "\n",
    "## Import Libraries\n",
    "\n"
   ]
  },
  {
   "cell_type": "code",
   "execution_count": 4,
   "metadata": {},
   "outputs": [
    {
     "name": "stderr",
     "output_type": "stream",
     "text": [
      "[nltk_data] Downloading package punkt_tab to\n",
      "[nltk_data]     /home/flavien/nltk_data...\n",
      "[nltk_data]   Package punkt_tab is already up-to-date!\n"
     ]
    },
    {
     "data": {
      "text/plain": [
       "True"
      ]
     },
     "execution_count": 4,
     "metadata": {},
     "output_type": "execute_result"
    }
   ],
   "source": [
    "from datasets import load_dataset\n",
    "from collections import Counter, defaultdict\n",
    "import math\n",
    "import pandas as pd\n",
    "\n",
    "import nltk\n",
    "from nltk import word_tokenize          \n",
    "from nltk.stem import WordNetLemmatizer \n",
    "\n",
    "from sklearn.model_selection import train_test_split, cross_val_score, GridSearchCV, StratifiedKFold\n",
    "from sklearn.feature_extraction.text import CountVectorizer, TfidfVectorizer, TfidfTransformer\n",
    "from sklearn.naive_bayes import MultinomialNB\n",
    "from sklearn.pipeline import make_pipeline\n",
    "from sklearn.metrics import classification_report, accuracy_score, ConfusionMatrixDisplay, confusion_matrix\n",
    "from sklearn.utils.class_weight import compute_sample_weight\n",
    "\n",
    "from spacy.lang.fr.stop_words import STOP_WORDS as fr_stop\n",
    "from spacy.lang.en.stop_words import STOP_WORDS as en_stop\n",
    "\n",
    "nltk.download('punkt_tab')"
   ]
  },
  {
   "cell_type": "markdown",
   "metadata": {},
   "source": [
    "## Import Dataset"
   ]
  },
  {
   "cell_type": "code",
   "execution_count": 5,
   "metadata": {},
   "outputs": [
    {
     "data": {
      "application/vnd.microsoft.datawrangler.viewer.v0+json": {
       "columns": [
        {
         "name": "index",
         "rawType": "int64",
         "type": "integer"
        },
        {
         "name": "hotel_id",
         "rawType": "int64",
         "type": "integer"
        },
        {
         "name": "user_id",
         "rawType": "object",
         "type": "string"
        },
        {
         "name": "title",
         "rawType": "object",
         "type": "string"
        },
        {
         "name": "text",
         "rawType": "object",
         "type": "string"
        },
        {
         "name": "overall",
         "rawType": "float64",
         "type": "float"
        },
        {
         "name": "cleanliness",
         "rawType": "float64",
         "type": "float"
        },
        {
         "name": "value",
         "rawType": "float64",
         "type": "float"
        },
        {
         "name": "location",
         "rawType": "float64",
         "type": "float"
        },
        {
         "name": "rooms",
         "rawType": "float64",
         "type": "float"
        },
        {
         "name": "sleep_quality",
         "rawType": "float64",
         "type": "float"
        },
        {
         "name": "stay_year",
         "rawType": "int64",
         "type": "integer"
        },
        {
         "name": "post_date",
         "rawType": "datetime64[ns]",
         "type": "datetime"
        },
        {
         "name": "freq",
         "rawType": "int64",
         "type": "integer"
        },
        {
         "name": "review",
         "rawType": "object",
         "type": "string"
        },
        {
         "name": "char",
         "rawType": "int64",
         "type": "integer"
        },
        {
         "name": "lang",
         "rawType": "object",
         "type": "string"
        }
       ],
       "conversionMethod": "pd.DataFrame",
       "ref": "48438e79-9dc3-453f-aa7d-f7d26abf28fc",
       "rows": [
        [
         "0",
         "127781101",
         "2262DCBFC351F42A9DD30AC8BAD24686",
         "Really excellent Hilton",
         "Stayed here on business trips and the hotel is excellent for business trips. Staff is excellent and really helpful. VERY clean hotel. Best choice in San Diego; especially a Hilton.",
         "5.0",
         "4.0",
         "5.0",
         "4.0",
         "5.0",
         "4.0",
         "2012",
         "2012-04-13 00:00:00",
         "1",
         "Really excellent Hilton\nStayed here on business trips and the hotel is excellent for business trips. Staff is excellent and really helpful. VERY clean hotel. Best choice in San Diego; especially a Hilton.",
         "204",
         "__label__en"
        ],
        [
         "1",
         "137380592",
         "8477E11DABF4D6743885E401BB4C8CCF",
         "Exceptional service and comfort",
         "Spent two nights here for a wedding in Brooklyn. The staff members were all exceptionally friendly and professional, from the doormen and bellhops to the front-desk and concierge. I was especially grateful that Kevin, a bartender in the Ritz's off-lobby bar, was able to tie my bowtie -- I would have looked pretty foolish otherwise. He made it look perfect. Our room was spacious and comfortable, with a large bathroom and king-size bed that provided some of the best sleep I can remember in a hotel. My only disappointment was that the fitness center did not offer a sauna or steam room.",
         "5.0",
         "5.0",
         "4.0",
         "5.0",
         "4.0",
         "5.0",
         "2012",
         "2012-08-16 00:00:00",
         "1",
         "Exceptional service and comfort\nSpent two nights here for a wedding in Brooklyn. The staff members were all exceptionally friendly and professional, from the doormen and bellhops to the front-desk and concierge. I was especially grateful that Kevin, a bartender in the Ritz's off-lobby bar, was able to tie my bowtie -- I would have looked pretty foolish otherwise. He made it look perfect. Our room was spacious and comfortable, with a large bathroom and king-size bed that provided some of the best sleep I can remember in a hotel. My only disappointment was that the fitness center did not offer a sauna or steam room.",
         "621",
         "__label__en"
        ],
        [
         "2",
         "129673371",
         "483A193B7113ADFFD5CE30849564F69C",
         "Nice room and five star service",
         "Great place for a 3-night stay. Our king room overlooked the pool and was very quiet. But we sure did not need the bed's heavy comforter in the Texas heat. Fortunately, there was a light blanket in the closet. \nService could not have been better. Staff members were amazingly helpful, friendly, and knowledgable about the area. I made an online reservation the day before I wanted to arrive, and I requested a room without scenting cleaning products and away from the elevator. Staff made sure BOTH requests were fulfilled! Later when the in-room telephone misbehaved, a hotel employee was promptly there to fix it. A front desk clerk knew just where to find a nearby self-serve carwash. When the TV was blaring in the breakfast room, we were able to get the sound turned down. During our visit, we bought a new camera and accidentally trashed the camera box with the strap inside. Our garbage had just been taken out, so we asked if we could check the trash. A staff member volunteered to check the garbage, and he found the box, retrieved the strap, and had it delivered to our room in very little time!\nBonuses included the freshly baked cookies at the front desk and DVDs to check out for free (the rooms have DVD players).",
         "5.0",
         "5.0",
         "5.0",
         "3.0",
         "5.0",
         "4.0",
         "2012",
         "2012-05-09 00:00:00",
         "1",
         "Nice room and five star service\nGreat place for a 3-night stay. Our king room overlooked the pool and was very quiet. But we sure did not need the bed's heavy comforter in the Texas heat. Fortunately, there was a light blanket in the closet. \nService could not have been better. Staff members were amazingly helpful, friendly, and knowledgable about the area. I made an online reservation the day before I wanted to arrive, and I requested a room without scenting cleaning products and away from the elevator. Staff made sure BOTH requests were fulfilled! Later when the in-room telephone misbehaved, a hotel employee was promptly there to fix it. A front desk clerk knew just where to find a nearby self-serve carwash. When the TV was blaring in the breakfast room, we were able to get the sound turned down. During our visit, we bought a new camera and accidentally trashed the camera box with the strap inside. Our garbage had just been taken out, so we asked if we could check the trash. A staff member volunteered to check the garbage, and he found the box, retrieved the strap, and had it delivered to our room in very little time!\nBonuses included the freshly baked cookies at the front desk and DVDs to check out for free (the rooms have DVD players).",
         "1259",
         "__label__en"
        ],
        [
         "3",
         "129006626",
         "E5A63DD7239A7057746D4644A5C986EB",
         "BRILLIANT hotel, my #1 Chicago pick for business and pleasure",
         "This is my favorite hotel in Chicago, and I've stayed at all the top luxury properties (Four Seasons, Hyatts etc). I've stayed at this hotel 20+ times, it's a hidden gem. Right on the lakefront, there's a beach across the street from the hotel, and if you get a lake view room (be sure to ask), you'll spend some quality zen time gazing at the water. Regardless of which room you get, you can leave your window shades open because you have beautiful views in every direction plus no one overlooking you. \nRooms are fantastic - I love the clever, well-designed furniture and fittings, simple, minimal, and very well-designed. Honey-colored lighting plus a multiplicity of window treatments (blackout shades plus twig shades plus sheer sun shades) means that you can adjust the lighting to make yourself feel cheerful and relaxed. The bathroom is gorgeous, plus clever 'window' out to main room means excellent ventilation and light. \nThe huge lobby is my favorite hangout in Chicago. The ground-floor location means you're connected to the street-level location and yet the plush chairs, sofas etc mean that you totally zen out and relax. I always try to conduct business meetings in the lobby - plenty of space, beautiful room and excellent food/drinks menu and service means that my guest invariably remarks 'wow, this is a great place, I've never been here before.' I've won almost every negotiation conducted in the lobby, ply your opponents with drinks plus finger food plus a terry cloth robe and they will give you all that you want :)\nAlso love the staff - they totally deal with whatever questions I have or help that I need. This is an EXCELLENT hotel for BUSINESS travelers, the staff is exceptionally helpful running meetings, handling phone calls etc. And special shout-out to the car valet staff and doorman staff - Chicago can be incredibly cold, but the staff always has your car (or taxi) warmed up and waiting for you, I've never met better service. Ever. The front desk also have my airplane boarding passes printed out when I come down to check out, plus a pre-visit call means they will help you maximize spg points etc.\nStay here every time you visit Chicago.",
         "5.0",
         "5.0",
         "5.0",
         "5.0",
         "5.0",
         "5.0",
         "2012",
         "2012-04-28 00:00:00",
         "1",
         "BRILLIANT hotel, my #1 Chicago pick for business and pleasure\nThis is my favorite hotel in Chicago, and I've stayed at all the top luxury properties (Four Seasons, Hyatts etc). I've stayed at this hotel 20+ times, it's a hidden gem. Right on the lakefront, there's a beach across the street from the hotel, and if you get a lake view room (be sure to ask), you'll spend some quality zen time gazing at the water. Regardless of which room you get, you can leave your window shades open because you have beautiful views in every direction plus no one overlooking you. \nRooms are fantastic - I love the clever, well-designed furniture and fittings, simple, minimal, and very well-designed. Honey-colored lighting plus a multiplicity of window treatments (blackout shades plus twig shades plus sheer sun shades) means that you can adjust the lighting to make yourself feel cheerful and relaxed. The bathroom is gorgeous, plus clever 'window' out to main room means excellent ventilation and light. \nThe huge lobby is my favorite hangout in Chicago. The ground-floor location means you're connected to the street-level location and yet the plush chairs, sofas etc mean that you totally zen out and relax. I always try to conduct business meetings in the lobby - plenty of space, beautiful room and excellent food/drinks menu and service means that my guest invariably remarks 'wow, this is a great place, I've never been here before.' I've won almost every negotiation conducted in the lobby, ply your opponents with drinks plus finger food plus a terry cloth robe and they will give you all that you want :)\nAlso love the staff - they totally deal with whatever questions I have or help that I need. This is an EXCELLENT hotel for BUSINESS travelers, the staff is exceptionally helpful running meetings, handling phone calls etc. And special shout-out to the car valet staff and doorman staff - Chicago can be incredibly cold, but the staff always has your car (or taxi) warmed up and waiting for you, I've never met better service. Ever. The front desk also have my airplane boarding passes printed out when I come down to check out, plus a pre-visit call means they will help you maximize spg points etc.\nStay here every time you visit Chicago.",
         "2242",
         "__label__en"
        ],
        [
         "4",
         "139168159",
         "CBFE281C9386225267BC52518836A6C2",
         "Convenient and comfortable",
         "BEST. BREAKFAST. EVER. Couldn't have been happier with the food, staff, and room. Absolutely wonderful. The location was just off of 16th, but situated in such a way that it wasn't always busy. Parking was easy to get in and out of, and the staff was very friendly and helpful with questions of how to get to where in downtown Denver. With the 16th street mall being so close, it couldn't have been more convenient for us to get to where we wanted to be. Absolutely fantastic weekend.",
         "5.0",
         "5.0",
         "4.0",
         "5.0",
         "4.0",
         "5.0",
         "2012",
         "2012-09-02 00:00:00",
         "1",
         "Convenient and comfortable\nBEST. BREAKFAST. EVER. Couldn't have been happier with the food, staff, and room. Absolutely wonderful. The location was just off of 16th, but situated in such a way that it wasn't always busy. Parking was easy to get in and out of, and the staff was very friendly and helpful with questions of how to get to where in downtown Denver. With the 16th street mall being so close, it couldn't have been more convenient for us to get to where we wanted to be. Absolutely fantastic weekend.",
         "511",
         "__label__en"
        ]
       ],
       "shape": {
        "columns": 16,
        "rows": 5
       }
      },
      "text/html": [
       "<div>\n",
       "<style scoped>\n",
       "    .dataframe tbody tr th:only-of-type {\n",
       "        vertical-align: middle;\n",
       "    }\n",
       "\n",
       "    .dataframe tbody tr th {\n",
       "        vertical-align: top;\n",
       "    }\n",
       "\n",
       "    .dataframe thead th {\n",
       "        text-align: right;\n",
       "    }\n",
       "</style>\n",
       "<table border=\"1\" class=\"dataframe\">\n",
       "  <thead>\n",
       "    <tr style=\"text-align: right;\">\n",
       "      <th></th>\n",
       "      <th>hotel_id</th>\n",
       "      <th>user_id</th>\n",
       "      <th>title</th>\n",
       "      <th>text</th>\n",
       "      <th>overall</th>\n",
       "      <th>cleanliness</th>\n",
       "      <th>value</th>\n",
       "      <th>location</th>\n",
       "      <th>rooms</th>\n",
       "      <th>sleep_quality</th>\n",
       "      <th>stay_year</th>\n",
       "      <th>post_date</th>\n",
       "      <th>freq</th>\n",
       "      <th>review</th>\n",
       "      <th>char</th>\n",
       "      <th>lang</th>\n",
       "    </tr>\n",
       "  </thead>\n",
       "  <tbody>\n",
       "    <tr>\n",
       "      <th>0</th>\n",
       "      <td>127781101</td>\n",
       "      <td>2262DCBFC351F42A9DD30AC8BAD24686</td>\n",
       "      <td>Really excellent Hilton</td>\n",
       "      <td>Stayed here on business trips and the hotel is...</td>\n",
       "      <td>5.0</td>\n",
       "      <td>4.0</td>\n",
       "      <td>5.0</td>\n",
       "      <td>4.0</td>\n",
       "      <td>5.0</td>\n",
       "      <td>4.0</td>\n",
       "      <td>2012</td>\n",
       "      <td>2012-04-13</td>\n",
       "      <td>1</td>\n",
       "      <td>Really excellent Hilton\\nStayed here on busine...</td>\n",
       "      <td>204</td>\n",
       "      <td>__label__en</td>\n",
       "    </tr>\n",
       "    <tr>\n",
       "      <th>1</th>\n",
       "      <td>137380592</td>\n",
       "      <td>8477E11DABF4D6743885E401BB4C8CCF</td>\n",
       "      <td>Exceptional service and comfort</td>\n",
       "      <td>Spent two nights here for a wedding in Brookly...</td>\n",
       "      <td>5.0</td>\n",
       "      <td>5.0</td>\n",
       "      <td>4.0</td>\n",
       "      <td>5.0</td>\n",
       "      <td>4.0</td>\n",
       "      <td>5.0</td>\n",
       "      <td>2012</td>\n",
       "      <td>2012-08-16</td>\n",
       "      <td>1</td>\n",
       "      <td>Exceptional service and comfort\\nSpent two nig...</td>\n",
       "      <td>621</td>\n",
       "      <td>__label__en</td>\n",
       "    </tr>\n",
       "    <tr>\n",
       "      <th>2</th>\n",
       "      <td>129673371</td>\n",
       "      <td>483A193B7113ADFFD5CE30849564F69C</td>\n",
       "      <td>Nice room and five star service</td>\n",
       "      <td>Great place for a 3-night stay. Our king room ...</td>\n",
       "      <td>5.0</td>\n",
       "      <td>5.0</td>\n",
       "      <td>5.0</td>\n",
       "      <td>3.0</td>\n",
       "      <td>5.0</td>\n",
       "      <td>4.0</td>\n",
       "      <td>2012</td>\n",
       "      <td>2012-05-09</td>\n",
       "      <td>1</td>\n",
       "      <td>Nice room and five star service\\nGreat place f...</td>\n",
       "      <td>1259</td>\n",
       "      <td>__label__en</td>\n",
       "    </tr>\n",
       "    <tr>\n",
       "      <th>3</th>\n",
       "      <td>129006626</td>\n",
       "      <td>E5A63DD7239A7057746D4644A5C986EB</td>\n",
       "      <td>BRILLIANT hotel, my #1 Chicago pick for busine...</td>\n",
       "      <td>This is my favorite hotel in Chicago, and I've...</td>\n",
       "      <td>5.0</td>\n",
       "      <td>5.0</td>\n",
       "      <td>5.0</td>\n",
       "      <td>5.0</td>\n",
       "      <td>5.0</td>\n",
       "      <td>5.0</td>\n",
       "      <td>2012</td>\n",
       "      <td>2012-04-28</td>\n",
       "      <td>1</td>\n",
       "      <td>BRILLIANT hotel, my #1 Chicago pick for busine...</td>\n",
       "      <td>2242</td>\n",
       "      <td>__label__en</td>\n",
       "    </tr>\n",
       "    <tr>\n",
       "      <th>4</th>\n",
       "      <td>139168159</td>\n",
       "      <td>CBFE281C9386225267BC52518836A6C2</td>\n",
       "      <td>Convenient and comfortable</td>\n",
       "      <td>BEST. BREAKFAST. EVER. Couldn't have been happ...</td>\n",
       "      <td>5.0</td>\n",
       "      <td>5.0</td>\n",
       "      <td>4.0</td>\n",
       "      <td>5.0</td>\n",
       "      <td>4.0</td>\n",
       "      <td>5.0</td>\n",
       "      <td>2012</td>\n",
       "      <td>2012-09-02</td>\n",
       "      <td>1</td>\n",
       "      <td>Convenient and comfortable\\nBEST. BREAKFAST. E...</td>\n",
       "      <td>511</td>\n",
       "      <td>__label__en</td>\n",
       "    </tr>\n",
       "  </tbody>\n",
       "</table>\n",
       "</div>"
      ],
      "text/plain": [
       "    hotel_id                           user_id  \\\n",
       "0  127781101  2262DCBFC351F42A9DD30AC8BAD24686   \n",
       "1  137380592  8477E11DABF4D6743885E401BB4C8CCF   \n",
       "2  129673371  483A193B7113ADFFD5CE30849564F69C   \n",
       "3  129006626  E5A63DD7239A7057746D4644A5C986EB   \n",
       "4  139168159  CBFE281C9386225267BC52518836A6C2   \n",
       "\n",
       "                                               title  \\\n",
       "0                            Really excellent Hilton   \n",
       "1                    Exceptional service and comfort   \n",
       "2                    Nice room and five star service   \n",
       "3  BRILLIANT hotel, my #1 Chicago pick for busine...   \n",
       "4                         Convenient and comfortable   \n",
       "\n",
       "                                                text  overall  cleanliness  \\\n",
       "0  Stayed here on business trips and the hotel is...      5.0          4.0   \n",
       "1  Spent two nights here for a wedding in Brookly...      5.0          5.0   \n",
       "2  Great place for a 3-night stay. Our king room ...      5.0          5.0   \n",
       "3  This is my favorite hotel in Chicago, and I've...      5.0          5.0   \n",
       "4  BEST. BREAKFAST. EVER. Couldn't have been happ...      5.0          5.0   \n",
       "\n",
       "   value  location  rooms  sleep_quality  stay_year  post_date  freq  \\\n",
       "0    5.0       4.0    5.0            4.0       2012 2012-04-13     1   \n",
       "1    4.0       5.0    4.0            5.0       2012 2012-08-16     1   \n",
       "2    5.0       3.0    5.0            4.0       2012 2012-05-09     1   \n",
       "3    5.0       5.0    5.0            5.0       2012 2012-04-28     1   \n",
       "4    4.0       5.0    4.0            5.0       2012 2012-09-02     1   \n",
       "\n",
       "                                              review  char         lang  \n",
       "0  Really excellent Hilton\\nStayed here on busine...   204  __label__en  \n",
       "1  Exceptional service and comfort\\nSpent two nig...   621  __label__en  \n",
       "2  Nice room and five star service\\nGreat place f...  1259  __label__en  \n",
       "3  BRILLIANT hotel, my #1 Chicago pick for busine...  2242  __label__en  \n",
       "4  Convenient and comfortable\\nBEST. BREAKFAST. E...   511  __label__en  "
      ]
     },
     "metadata": {},
     "output_type": "display_data"
    }
   ],
   "source": [
    "ds = load_dataset(\"jniimi/tripadvisor-review-rating\")\n",
    "raw_data = pd.DataFrame(ds['train'])\n",
    "\n",
    "display(raw_data.head())"
   ]
  },
  {
   "cell_type": "code",
   "execution_count": 6,
   "metadata": {},
   "outputs": [
    {
     "name": "stdout",
     "output_type": "stream",
     "text": [
      "(201295, 16)\n",
      "(128828, 12)\n",
      "(32208, 12)\n",
      "(40259, 12)\n"
     ]
    }
   ],
   "source": [
    "print(raw_data.shape)\n",
    "\n",
    "# Remove the System Prompt\n",
    "df = raw_data.drop(columns=['stay_year', 'post_date', 'freq', 'lang'])\n",
    "\n",
    "# Drop the rows with missing User Prompt\n",
    "df = df.dropna()\n",
    "\n",
    "# Drop the duplicates\n",
    "df = df.drop_duplicates()\n",
    "\n",
    "# Shuffle the data\n",
    "df = df.sample(frac=1).reset_index(drop=True)\n",
    "\n",
    "# Split the data into train and test\n",
    "train_df, test_df = train_test_split(df, test_size=0.2)\n",
    "\n",
    "train_df, val_df = train_test_split(train_df, test_size=0.2)\n",
    "\n",
    "print(train_df.shape)\n",
    "print(val_df.shape)\n",
    "print(test_df.shape)"
   ]
  },
  {
   "cell_type": "code",
   "execution_count": 7,
   "metadata": {},
   "outputs": [],
   "source": [
    "def lemma_tokenize(doc):\n",
    "    wnl = WordNetLemmatizer()\n",
    "    return [wnl.lemmatize(t) for t in word_tokenize(doc)]\n",
    "\n",
    "def char_tokenize(doc):\n",
    "    return [char for char in doc]\n",
    "\n",
    "def byte_tokenize(doc):\n",
    "    tokens = doc.encode(\"utf-8\")\n",
    "    tokens = list(map(int, tokens))\n",
    "    return [str(token) for token in tokens]"
   ]
  },
  {
   "cell_type": "code",
   "execution_count": 8,
   "metadata": {},
   "outputs": [
    {
     "name": "stdout",
     "output_type": "stream",
     "text": [
      "(12883, 12)\n",
      "(4026, 12)\n"
     ]
    }
   ],
   "source": [
    "# Reduce the size of train_df and test_df by taking a random sample\n",
    "train_df = train_df.sample(frac=0.1, random_state=42)  # Taking 10% of the original data\n",
    "test_df = test_df.sample(frac=0.1, random_state=42)    # Taking 10% of the original data\n",
    "\n",
    "print(train_df.shape)\n",
    "print(test_df.shape)"
   ]
  },
  {
   "cell_type": "code",
   "execution_count": 9,
   "metadata": {},
   "outputs": [
    {
     "data": {
      "text/plain": [
       "array([5.22636917, 0.46192184, 0.46192184, ..., 0.60200935, 0.60200935,\n",
       "       1.40567376])"
      ]
     },
     "execution_count": 9,
     "metadata": {},
     "output_type": "execute_result"
    }
   ],
   "source": [
    "X = df['review']\n",
    "y = df['overall']\n",
    "\n",
    "X_train, X_test = train_df['review'], test_df['review']\n",
    "y_train, y_test = train_df['overall'], test_df['overall']\n",
    "\n",
    "sample_weights = compute_sample_weight(class_weight='balanced', y=y_train)\n",
    "sample_weights"
   ]
  },
  {
   "cell_type": "code",
   "execution_count": 10,
   "metadata": {},
   "outputs": [],
   "source": [
    "\n",
    "model = make_pipeline(CountVectorizer(ngram_range = (1,1)), MultinomialNB())\n",
    "# ngram_range=(1, 1) means that the CountVectorizer will consider only unigrams (single words) as features.\n",
    "#model2 = make_pipeline(CountVectorizer(ngram_range=(1, 1), stop_words=list(en_stop)), MultinomialNB())\n",
    "model2 = make_pipeline(CountVectorizer(tokenizer=word_tokenize, ngram_range=(1, 1)), MultinomialNB())\n",
    "#model = make_pipeline(CountVectorizer(tokenizer=lemma_tokenize, ngram_range = (1,1)), MultinomialNB())\n",
    "#model = make_pipeline(CountVectorizer(tokenizer=char_tokenize, ngram_range = (1,1)), MultinomialNB())\n",
    "#model = make_pipeline(CountVectorizer(tokenizer=char_tokenize, ngram_range = (2,2)), MultinomialNB())\n",
    "model3 = make_pipeline(CountVectorizer(tokenizer=char_tokenize, ngram_range = (3,3)), MultinomialNB())\n",
    "#model = make_pipeline(CountVectorizer(tokenizer=byte_tokenize, ngram_range = (1,1)), MultinomialNB())\n",
    "#model = make_pipeline(CountVectorizer(tokenizer=byte_tokenize, ngram_range = (2,2)), MultinomialNB())\n",
    "#model = make_pipeline(CountVectorizer(tokenizer=byte_tokenize, ngram_range = (3,3)), MultinomialNB())\n",
    "#model = make_pipeline(CountVectorizer(tokenizer=gpt_tokenize, ngram_range = (1,1)), MultinomialNB())"
   ]
  },
  {
   "cell_type": "code",
   "execution_count": 11,
   "metadata": {},
   "outputs": [
    {
     "name": "stdout",
     "output_type": "stream",
     "text": [
      "Features dimension: (12883, 28088)\n",
      "Classification Report:\n",
      "               precision    recall  f1-score   support\n",
      "\n",
      "         1.0       0.78      0.25      0.38       158\n",
      "         2.0       0.25      0.10      0.14       215\n",
      "         3.0       0.42      0.41      0.42       579\n",
      "         4.0       0.54      0.64      0.58      1327\n",
      "         5.0       0.76      0.76      0.76      1747\n",
      "\n",
      "    accuracy                           0.62      4026\n",
      "   macro avg       0.55      0.43      0.46      4026\n",
      "weighted avg       0.61      0.62      0.60      4026\n",
      "\n"
     ]
    },
    {
     "data": {
      "text/plain": [
       "<sklearn.metrics._plot.confusion_matrix.ConfusionMatrixDisplay at 0x761fbc5b6630>"
      ]
     },
     "execution_count": 11,
     "metadata": {},
     "output_type": "execute_result"
    },
    {
     "data": {
      "image/png": "[encoded data removed]",
      "text/plain": [
       "<Figure size 640x480 with 2 Axes>"
      ]
     },
     "metadata": {},
     "output_type": "display_data"
    }
   ],
   "source": [
    "model.fit(X_train, y_train)\n",
    "\n",
    "y_pred = model.predict(X_test)\n",
    "\n",
    "print(f\"Features dimension: {len(X_train), len(model[0].vocabulary_)}\")\n",
    "print(\"Classification Report:\\n\", classification_report(y_test, y_pred))\n",
    "\n",
    "cm = confusion_matrix(y_test, y_pred, labels=model.classes_)\n",
    "disp = ConfusionMatrixDisplay(confusion_matrix=cm, display_labels=model.classes_)\n",
    "disp.plot()\n",
    "\n",
    "# # Perform cross-validation and print the mean accuracy\n",
    "# scoring = 'f1_macro'\n",
    "# scores = cross_val_score(model, X, y, cv=5, scoring=scoring, n_jobs = -1)\n",
    "# print(f\"Mean {scoring}: {scores.mean()}\")\n",
    "# print(f\"Standard deviation {scoring}: {scores.std()}\")"
   ]
  },
  {
   "cell_type": "code",
   "execution_count": 12,
   "metadata": {},
   "outputs": [
    {
     "name": "stderr",
     "output_type": "stream",
     "text": [
      "/home/flavien/anaconda3/lib/python3.12/site-packages/sklearn/feature_extraction/text.py:521: UserWarning: The parameter 'token_pattern' will not be used since 'tokenizer' is not None'\n",
      "  warnings.warn(\n"
     ]
    },
    {
     "name": "stdout",
     "output_type": "stream",
     "text": [
      "Features dimension: (12883, 35609)\n",
      "Classification Report:\n",
      "               precision    recall  f1-score   support\n",
      "\n",
      "         1.0       0.82      0.20      0.32       158\n",
      "         2.0       0.24      0.06      0.09       215\n",
      "         3.0       0.39      0.36      0.38       579\n",
      "         4.0       0.52      0.63      0.57      1327\n",
      "         5.0       0.75      0.77      0.76      1747\n",
      "\n",
      "    accuracy                           0.60      4026\n",
      "   macro avg       0.54      0.40      0.42      4026\n",
      "weighted avg       0.60      0.60      0.59      4026\n",
      "\n"
     ]
    },
    {
     "data": {
      "text/plain": [
       "<sklearn.metrics._plot.confusion_matrix.ConfusionMatrixDisplay at 0x761fb2cf5dc0>"
      ]
     },
     "execution_count": 12,
     "metadata": {},
     "output_type": "execute_result"
    },
    {
     "data": {
      "image/png": "[encoded data removed]",
      "text/plain": [
       "<Figure size 640x480 with 2 Axes>"
      ]
     },
     "metadata": {},
     "output_type": "display_data"
    }
   ],
   "source": [
    "model2.fit(X_train, y_train)\n",
    "\n",
    "y_pred = model2.predict(X_test)\n",
    "\n",
    "print(f\"Features dimension: {len(X_train), len(model2[0].vocabulary_)}\")\n",
    "print(\"Classification Report:\\n\", classification_report(y_test, y_pred))\n",
    "\n",
    "cm = confusion_matrix(y_test, y_pred, labels=model.classes_)\n",
    "disp = ConfusionMatrixDisplay(confusion_matrix=cm, display_labels=model.classes_)\n",
    "disp.plot()\n",
    "\n",
    "# # Perform cross-validation and print the mean accuracy\n",
    "# scoring = 'f1_macro'\n",
    "# scores = cross_val_score(model2, X, y, cv=5, scoring=scoring, n_jobs = -1)\n",
    "# print(f\"Mean {scoring}: {scores.mean()}\")\n",
    "# print(f\"Standard deviation {scoring}: {scores.std()}\")"
   ]
  },
  {
   "cell_type": "code",
   "execution_count": 13,
   "metadata": {},
   "outputs": [
    {
     "name": "stderr",
     "output_type": "stream",
     "text": [
      "/home/flavien/anaconda3/lib/python3.12/site-packages/sklearn/feature_extraction/text.py:521: UserWarning: The parameter 'token_pattern' will not be used since 'tokenizer' is not None'\n",
      "  warnings.warn(\n"
     ]
    },
    {
     "name": "stdout",
     "output_type": "stream",
     "text": [
      "Features dimension: (12883, 24286)\n",
      "Classification Report:\n",
      "               precision    recall  f1-score   support\n",
      "\n",
      "         1.0       0.62      0.49      0.55       158\n",
      "         2.0       0.33      0.29      0.31       215\n",
      "         3.0       0.46      0.46      0.46       579\n",
      "         4.0       0.54      0.56      0.55      1327\n",
      "         5.0       0.75      0.75      0.75      1747\n",
      "\n",
      "    accuracy                           0.61      4026\n",
      "   macro avg       0.54      0.51      0.52      4026\n",
      "weighted avg       0.61      0.61      0.61      4026\n",
      "\n"
     ]
    },
    {
     "data": {
      "text/plain": [
       "<sklearn.metrics._plot.confusion_matrix.ConfusionMatrixDisplay at 0x761fb2513560>"
      ]
     },
     "execution_count": 13,
     "metadata": {},
     "output_type": "execute_result"
    },
    {
     "data": {
      "image/png": "[encoded data removed]",
      "text/plain": [
       "<Figure size 640x480 with 2 Axes>"
      ]
     },
     "metadata": {},
     "output_type": "display_data"
    }
   ],
   "source": [
    "model3.fit(X_train, y_train)\n",
    "\n",
    "y_pred = model3.predict(X_test)\n",
    "\n",
    "print(f\"Features dimension: {len(X_train), len(model3[0].vocabulary_)}\")\n",
    "print(\"Classification Report:\\n\", classification_report(y_test, y_pred))\n",
    "\n",
    "cm = confusion_matrix(y_test, y_pred, labels=model.classes_)\n",
    "disp = ConfusionMatrixDisplay(confusion_matrix=cm, display_labels=model.classes_)\n",
    "disp.plot()\n",
    "\n",
    "# # Perform cross-validation and print the mean accuracy\n",
    "# scoring = 'f1_macro'\n",
    "# scores = cross_val_score(model3, X, y, cv=5, scoring=scoring, n_jobs = -1)\n",
    "# print(f\"Mean {scoring}: {scores.mean()}\")\n",
    "# print(f\"Standard deviation {scoring}: {scores.std()}\")"
   ]
  },
  {
   "cell_type": "code",
   "execution_count": null,
   "metadata": {},
   "outputs": [],
   "source": []
  }
 ],
 "metadata": {
  "kernelspec": {
   "display_name": "base",
   "language": "python",
   "name": "python3"
  },
  "language_info": {
   "codemirror_mode": {
    "name": "ipython",
    "version": 3
   },
   "file_extension": ".py",
   "mimetype": "text/x-python",
   "name": "python",
   "nbconvert_exporter": "python",
   "pygments_lexer": "ipython3",
   "version": "3.12.2"
  }
 },
 "nbformat": 4,
 "nbformat_minor": 2
}
